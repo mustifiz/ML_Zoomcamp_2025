{
 "cells": [
  {
   "cell_type": "code",
   "execution_count": 3,
   "id": "db28977f",
   "metadata": {},
   "outputs": [
    {
     "name": "stdout",
     "output_type": "stream",
     "text": [
      "--2025-10-30 09:18:13--  https://raw.githubusercontent.com/alexeygrigorev/datasets/master/car_fuel_efficiency.csv\n",
      "Auflösen des Hostnamens raw.githubusercontent.com (raw.githubusercontent.com)… 2606:50c0:8002::154, 2606:50c0:8003::154, 2606:50c0:8000::154, ...\n",
      "Verbindungsaufbau zu raw.githubusercontent.com (raw.githubusercontent.com)|2606:50c0:8002::154|:443 … verbunden.\n",
      "HTTP-Anforderung gesendet, auf Antwort wird gewartet … 200 OK\n",
      "Länge: 874188 (854K) [text/plain]\n",
      "Wird in »car_fuel_efficiency.csv« gespeichert.\n",
      "\n",
      "car_fuel_efficiency 100%[===================>] 853,70K  --.-KB/s    in 0,1s    \n",
      "\n",
      "2025-10-30 09:18:14 (5,67 MB/s) - »car_fuel_efficiency.csv« gespeichert [874188/874188]\n",
      "\n"
     ]
    }
   ],
   "source": [
    "!wget https://raw.githubusercontent.com/alexeygrigorev/datasets/master/car_fuel_efficiency.csv"
   ]
  },
  {
   "cell_type": "code",
   "execution_count": 4,
   "id": "7cc7baa7",
   "metadata": {},
   "outputs": [],
   "source": [
    "import pandas as pd\n",
    "from sklearn.model_selection import train_test_split\n",
    "from sklearn.feature_extraction import DictVectorizer\n",
    "from tqdm.auto import tqdm"
   ]
  },
  {
   "cell_type": "code",
   "execution_count": 5,
   "id": "2a83e545",
   "metadata": {},
   "outputs": [
    {
     "name": "stdout",
     "output_type": "stream",
     "text": [
      "   engine_displacement  num_cylinders  horsepower  vehicle_weight  \\\n",
      "0                  170            3.0       159.0     3413.433759   \n",
      "1                  130            5.0        97.0     3149.664934   \n",
      "2                  170            NaN        78.0     3079.038997   \n",
      "3                  220            4.0         NaN     2542.392402   \n",
      "4                  210            1.0       140.0     3460.870990   \n",
      "\n",
      "   acceleration  model_year  origin fuel_type         drivetrain  num_doors  \\\n",
      "0          17.7        2003  Europe  Gasoline    All-wheel drive        0.0   \n",
      "1          17.8        2007     USA  Gasoline  Front-wheel drive        0.0   \n",
      "2          15.1        2018  Europe  Gasoline  Front-wheel drive        0.0   \n",
      "3          20.2        2009     USA    Diesel    All-wheel drive        2.0   \n",
      "4          14.4        2009  Europe  Gasoline    All-wheel drive        2.0   \n",
      "\n",
      "   fuel_efficiency_mpg  \n",
      "0            13.231729  \n",
      "1            13.688217  \n",
      "2            14.246341  \n",
      "3            16.912736  \n",
      "4            12.488369  \n",
      "(5822, 14)\n",
      "(1941, 14)\n",
      "(1941, 14)\n",
      "(5822,)\n",
      "(1941,)\n",
      "(1941,)\n"
     ]
    }
   ],
   "source": [
    "# 1) Load data\n",
    "csv_path = 'car_fuel_efficiency.csv'\n",
    "df_cars = pd.read_csv(csv_path, encoding='ascii')\n",
    "\n",
    "# 2) Quick preview of the data\n",
    "print(df_cars.head())\n",
    "\n",
    "# 3) Fill missing values with zeros\n",
    "# We fill both numeric and categorical NaNs with zero; for categoricals, string '0' is acceptable for DictVectorizer.\n",
    "df_filled = df_cars.copy()\n",
    "for c in df_filled.columns:\n",
    "    if pd.api.types.is_numeric_dtype(df_filled[c]):\n",
    "        df_filled[c] = df_filled[c].fillna(0)\n",
    "    else:\n",
    "        df_filled[c] = df_filled[c].fillna('0')\n",
    "\n",
    "# 4) Define features and target (assume fuel_efficiency_mpg is the target)\n",
    "feature_cols = [c for c in df_filled.columns if c != 'fuel_efficiency_mpg']\n",
    "X_df = df_filled[feature_cols]\n",
    "y = df_filled['fuel_efficiency_mpg']\n",
    "\n",
    "# 5) Train/validation/test split: 60/20/20 using random_state=1\n",
    "X_temp, X_test, y_temp, y_test = train_test_split(X_df, y, test_size=0.20, random_state=1)\n",
    "X_train, X_val, y_train, y_val = train_test_split(X_temp, y_temp, test_size=0.25, random_state=1)\n",
    "\n",
    "# 6) DictVectorizer(sparse=True)\n",
    "# Fit on train only, then transform val and test.\n",
    "vec = DictVectorizer(sparse=True)\n",
    "X_train_dicts = X_train.to_dict(orient='records')\n",
    "X_val_dicts = X_val.to_dict(orient='records')\n",
    "X_test_dicts = X_test.to_dict(orient='records')\n",
    "\n",
    "X_train_matrix = vec.fit_transform(X_train_dicts)\n",
    "X_val_matrix = vec.transform(X_val_dicts)\n",
    "X_test_matrix = vec.transform(X_test_dicts)\n",
    "\n",
    "# 7) Print shapes to confirm sizes\n",
    "print(X_train_matrix.shape)\n",
    "print(X_val_matrix.shape)\n",
    "print(X_test_matrix.shape)\n",
    "print(y_train.shape)\n",
    "print(y_val.shape)\n",
    "print(y_test.shape)"
   ]
  },
  {
   "cell_type": "code",
   "execution_count": null,
   "id": "0a09eef2",
   "metadata": {},
   "outputs": [
    {
     "name": "stdout",
     "output_type": "stream",
     "text": [
      "vehicle_weight\n"
     ]
    }
   ],
   "source": [
    "# Questions- 1\n",
    "# Train a DecisionTreeRegressor (max_depth=1) on the already prepared matrices to predict fuel_efficiency_mpg\n",
    "# Then extract the splitting feature name from the DictVectorizer feature names.\n",
    "\n",
    "from sklearn.tree import DecisionTreeRegressor\n",
    "import numpy as np\n",
    "\n",
    "# Ensure we have X_train_matrix, X_val_matrix, X_test_matrix, y_train, y_val, y_test, vec from earlier cell\n",
    "\n",
    "# Train the model\n",
    "reg = DecisionTreeRegressor(max_depth=1, random_state=1)\n",
    "reg.fit(X_train_matrix, y_train)\n",
    "\n",
    "# Identify the splitting feature index from the tree\n",
    "# For max_depth=1, the root node splits on a single feature. The index is in tree_.feature[0]\n",
    "split_idx = reg.tree_.feature[0]\n",
    "feature_names = vec.get_feature_names_out()\n",
    "split_feature_name = feature_names[split_idx]\n",
    "\n",
    "print(split_feature_name)"
   ]
  },
  {
   "cell_type": "code",
   "execution_count": 8,
   "id": "be790a59",
   "metadata": {},
   "outputs": [
    {
     "name": "stdout",
     "output_type": "stream",
     "text": [
      "0.4586615458484907\n"
     ]
    }
   ],
   "source": [
    "# Questions- 2\n",
    "# Train a RandomForestRegressor and compute RMSE on the validation set as requested\n",
    "# Using existing X_train_matrix, y_train, X_val_matrix, y_val\n",
    "\n",
    "# Troubleshoot sklearn version where mean_squared_error may not support 'squared' kwarg\n",
    "# Compute RMSE by taking sqrt of MSE manually.\n",
    "\n",
    "from sklearn.ensemble import RandomForestRegressor\n",
    "from sklearn.metrics import mean_squared_error\n",
    "import numpy as np\n",
    "\n",
    "rf = RandomForestRegressor(n_estimators=10, random_state=1, n_jobs=-1)\n",
    "rf.fit(X_train_matrix, y_train)\n",
    "\n",
    "val_pred = rf.predict(X_val_matrix)\n",
    "mse = mean_squared_error(y_val, val_pred)\n",
    "rmse = np.sqrt(mse)\n",
    "\n",
    "print(rmse)"
   ]
  },
  {
   "cell_type": "code",
   "execution_count": null,
   "id": "96b5421c",
   "metadata": {},
   "outputs": [
    {
     "name": "stdout",
     "output_type": "stream",
     "text": [
      "10\n",
      "0.458662\n",
      "20\n",
      "0.45368\n",
      "30\n",
      "0.451172\n",
      "40\n",
      "0.448357\n",
      "50\n",
      "0.446179\n",
      "60\n",
      "0.4453\n",
      "70\n",
      "0.444674\n",
      "80\n",
      "0.444994\n",
      "90\n",
      "0.445205\n",
      "100\n",
      "0.444896\n",
      "110\n",
      "0.443718\n",
      "120\n",
      "0.444101\n",
      "130\n",
      "0.443773\n",
      "140\n",
      "0.443502\n",
      "150\n",
      "0.44302\n",
      "160\n",
      "0.442789\n",
      "170\n",
      "0.442894\n",
      "180\n",
      "0.442548\n",
      "190\n",
      "0.442607\n",
      "200\n",
      "0.44252\n",
      "150\n"
     ]
    }
   ],
   "source": [
    "# questions- 3\n",
    "# Sweep n_estimators from 10 to 200 step 10 for RandomForestRegressor\n",
    "# Compute validation RMSE for each and find when RMSE stops improving at 3 decimals.\n",
    "\n",
    "from sklearn.ensemble import RandomForestRegressor\n",
    "from sklearn.metrics import mean_squared_error\n",
    "import numpy as np\n",
    "\n",
    "results = []\n",
    "best_rmse = None\n",
    "best_n = None\n",
    "\n",
    "for n in range(10, 201, 10):\n",
    "    rf = RandomForestRegressor(n_estimators=n, random_state=1, n_jobs=-1)\n",
    "    rf.fit(X_train_matrix, y_train)\n",
    "    val_pred = rf.predict(X_val_matrix)\n",
    "    rmse = np.sqrt(mean_squared_error(y_val, val_pred))\n",
    "    results.append((n, rmse))\n",
    "\n",
    "# Print the results\n",
    "for n, rmse in results:\n",
    "    print(n)\n",
    "    print(round(rmse, 6))\n",
    "\n",
    "# Determine the first n where rounding to 3 decimals does not strictly improve vs previous best\n",
    "stop_after = None\n",
    "best_so_far = None\n",
    "for n, rmse in results:\n",
    "    r3 = round(rmse, 3)\n",
    "    if best_so_far is None or r3 < best_so_far:\n",
    "        best_so_far = r3\n",
    "        stop_after = n\n",
    "\n",
    "print(stop_after)"
   ]
  },
  {
   "cell_type": "code",
   "execution_count": null,
   "id": "86841d08",
   "metadata": {},
   "outputs": [
    {
     "data": {
      "application/vnd.jupyter.widget-view+json": {
       "model_id": "4567af47e7f047c09b6607ab09778080",
       "version_major": 2,
       "version_minor": 0
      },
      "text/plain": [
       "  0%|          | 0/4 [00:00<?, ?it/s]"
      ]
     },
     "metadata": {},
     "output_type": "display_data"
    },
    {
     "name": "stdout",
     "output_type": "stream",
     "text": [
      "   max_depth  n_estimators      rmse\n",
      "0         10            10  0.450627\n",
      "1         10            20  0.447109\n",
      "2         10            30  0.445616\n",
      "3         10            40  0.443237\n",
      "4         10            50  0.442072\n",
      "   max_depth      rmse\n",
      "0         10  0.441879\n",
      "1         15  0.445616\n",
      "2         20  0.445679\n",
      "3         25  0.445702\n"
     ]
    },
    {
     "data": {
      "image/png": "[encoded data removed]",
      "text/plain": [
       "<Figure size 600x400 with 1 Axes>"
      ]
     },
     "metadata": {},
     "output_type": "display_data"
    }
   ],
   "source": [
    "# questions- 4\n",
    "# Grid search over max_depth in [10, 15, 20, 25] and n_estimators in 10..200 step 10\n",
    "# Compute validation RMSE for each, then compute mean RMSE per max_depth and pick the best.\n",
    "\n",
    "from sklearn.ensemble import RandomForestRegressor\n",
    "from sklearn.metrics import mean_squared_error\n",
    "import numpy as np\n",
    "import pandas as pd\n",
    "from tqdm.auto import tqdm\n",
    "import matplotlib.pyplot as plt\n",
    "\n",
    "max_depth_values = [10, 15, 20, 25]\n",
    "n_values = list(range(10, 201, 10))\n",
    "\n",
    "rows = []\n",
    "for md in tqdm(max_depth_values):\n",
    "    for n in n_values:\n",
    "        rf = RandomForestRegressor(n_estimators=n, max_depth=md, random_state=1, n_jobs=-1)\n",
    "        rf.fit(X_train_matrix, y_train)\n",
    "        val_pred = rf.predict(X_val_matrix)\n",
    "        rmse = np.sqrt(mean_squared_error(y_val, val_pred))\n",
    "        rows.append({\n",
    "            'max_depth': md,\n",
    "            'n_estimators': n,\n",
    "            'rmse': rmse\n",
    "        })\n",
    "\n",
    "res_df = pd.DataFrame(rows)\n",
    "mean_df = res_df.groupby('max_depth', as_index=False)['rmse'].mean().sort_values('rmse')\n",
    "\n",
    "print(res_df.head())\n",
    "print(mean_df)\n",
    "\n",
    "# Simple plot of mean RMSE vs max_depth\n",
    "plt.figure(figsize=(6,4))\n",
    "plt.plot(mean_df['max_depth'], mean_df['rmse'], marker='o')\n",
    "plt.xlabel('max_depth')\n",
    "plt.ylabel('mean RMSE (validation)')\n",
    "plt.title('Mean RMSE vs max_depth')\n",
    "plt.grid(True, linestyle='--', alpha=0.4)\n",
    "plt.show()"
   ]
  },
  {
   "cell_type": "code",
   "execution_count": 11,
   "id": "5b82298d",
   "metadata": {},
   "outputs": [
    {
     "name": "stdout",
     "output_type": "stream",
     "text": [
      "vehicle_weight\n",
      "0.9591531737242687\n",
      "horsepower\n",
      "0.01606583100118693\n",
      "acceleration\n",
      "0.011489660517019416\n",
      "engine_displacement\n",
      "0.0032794702827490425\n"
     ]
    }
   ],
   "source": [
    "# questions- 5\n",
    "# Train a RandomForestRegressor with specified params and extract feature importances\n",
    "# Then map back to feature names from DictVectorizer and report top among the 4 given.\n",
    "\n",
    "from sklearn.ensemble import RandomForestRegressor\n",
    "import numpy as np\n",
    "\n",
    "rf = RandomForestRegressor(n_estimators=10, max_depth=20, random_state=1, n_jobs=-1)\n",
    "rf.fit(X_train_matrix, y_train)\n",
    "\n",
    "importances = rf.feature_importances_\n",
    "feature_names = vec.get_feature_names_out()\n",
    "\n",
    "# Create mapping and extract the four of interest\n",
    "name_to_importance = {name: imp for name, imp in zip(feature_names, importances)}\n",
    "candidates = [\n",
    "    'vehicle_weight',\n",
    "    'horsepower',\n",
    "    'acceleration',\n",
    "    'engine_displacement'\n",
    "]\n",
    "\n",
    "# Some features might be encoded or scaled; but these should be present as-is from DictVectorizer\n",
    "candidate_scores = {c: name_to_importance.get(c, 0.0) for c in candidates}\n",
    "\n",
    "# Sort and print\n",
    "sorted_items = sorted(candidate_scores.items(), key=lambda x: x[1], reverse=True)\n",
    "for k, v in sorted_items:\n",
    "    print(k)\n",
    "    print(v)"
   ]
  },
  {
   "cell_type": "code",
   "execution_count": 12,
   "id": "5b118a6b",
   "metadata": {},
   "outputs": [
    {
     "name": "stdout",
     "output_type": "stream",
     "text": [
      "0.3\n",
      "0.4334861295405598\n",
      "0.1\n",
      "0.4242625629140815\n",
      "0.1\n"
     ]
    }
   ],
   "source": [
    "# With matrices prepared, run the XGBoost training for eta 0.3 and 0.1 and compare best validation RMSE.\n",
    "\n",
    "import xgboost as xgb\n",
    "import numpy as np\n",
    "\n",
    "# Create DMatrices\n",
    "dtrain = xgb.DMatrix(X_train_matrix, label=y_train)\n",
    "dval = xgb.DMatrix(X_val_matrix, label=y_val)\n",
    "watchlist = [(dtrain, 'train'), (dval, 'val')]\n",
    "\n",
    "base_params = {\n",
    "    'max_depth': 6,\n",
    "    'min_child_weight': 1,\n",
    "    'objective': 'reg:squarederror',\n",
    "    'nthread': 8,\n",
    "    'seed': 1,\n",
    "    'verbosity': 1\n",
    "}\n",
    "\n",
    "results = {}\n",
    "per_round_hist = {}\n",
    "for eta in [0.3, 0.1]:\n",
    "    params = dict(base_params)\n",
    "    params['eta'] = eta\n",
    "    evals_result = {}\n",
    "    model = xgb.train(\n",
    "        params=params,\n",
    "        dtrain=dtrain,\n",
    "        num_boost_round=100,\n",
    "        evals=watchlist,\n",
    "        evals_result=evals_result,\n",
    "        verbose_eval=False\n",
    "    )\n",
    "    val_rmse_per_round = evals_result['val']['rmse']\n",
    "    results[eta] = float(np.min(val_rmse_per_round))\n",
    "    per_round_hist[eta] = val_rmse_per_round\n",
    "\n",
    "for eta, rmse in results.items():\n",
    "    print(eta)\n",
    "    print(rmse)\n",
    "\n",
    "best_eta = min(results, key=results.get)\n",
    "print(best_eta)"
   ]
  },
  {
   "cell_type": "code",
   "execution_count": null,
   "id": "660c75c5",
   "metadata": {},
   "outputs": [],
   "source": []
  }
 ],
 "metadata": {
  "kernelspec": {
   "display_name": "base",
   "language": "python",
   "name": "python3"
  },
  "language_info": {
   "codemirror_mode": {
    "name": "ipython",
    "version": 3
   },
   "file_extension": ".py",
   "mimetype": "text/x-python",
   "name": "python",
   "nbconvert_exporter": "python",
   "pygments_lexer": "ipython3",
   "version": "3.12.7"
  }
 },
 "nbformat": 4,
 "nbformat_minor": 5
}
