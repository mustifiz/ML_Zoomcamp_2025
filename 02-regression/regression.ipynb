{
 "cells": [
  {
   "cell_type": "markdown",
   "id": "7224536b",
   "metadata": {},
   "source": [
    "# Car Fuel Efficiency — Homework\n",
    "\n",
    "This notebook reproduces the experiments from `hw_regression.py`: loading the dataset, EDA, splits, training linear models with different imputations and regularization, and reporting RMSEs."
   ]
  },
  {
   "cell_type": "code",
   "execution_count": 1,
   "id": "9d6e7b75",
   "metadata": {},
   "outputs": [],
   "source": [
    "import os\n",
    "import urllib.request\n",
    "import pandas as pd\n",
    "import numpy as np\n",
    "from sklearn.linear_model import Ridge, LinearRegression\n",
    "from sklearn.metrics import mean_squared_error\n",
    "\n"
   ]
  },
  {
   "cell_type": "code",
   "execution_count": 3,
   "id": "fb335338",
   "metadata": {},
   "outputs": [
    {
     "name": "stdout",
     "output_type": "stream",
     "text": [
      "Dataset already exists.\n"
     ]
    }
   ],
   "source": [
    "URL = \"https://raw.githubusercontent.com/alexeygrigorev/datasets/master/car_fuel_efficiency.csv\"\n",
    "CSV_PATH = \"car_fuel_efficiency.csv\"\n",
    "\n",
    "# Eğer dosya yoksa indir\n",
    "if not os.path.exists(CSV_PATH):\n",
    "    print(\"Downloading dataset...\")\n",
    "    urllib.request.urlretrieve(URL, CSV_PATH)\n",
    "else:\n",
    "    print(\"Dataset already exists.\")"
   ]
  },
  {
   "cell_type": "code",
   "execution_count": 4,
   "id": "db93ee84",
   "metadata": {},
   "outputs": [
    {
     "data": {
      "text/html": [
       "<div>\n",
       "<style scoped>\n",
       "    .dataframe tbody tr th:only-of-type {\n",
       "        vertical-align: middle;\n",
       "    }\n",
       "\n",
       "    .dataframe tbody tr th {\n",
       "        vertical-align: top;\n",
       "    }\n",
       "\n",
       "    .dataframe thead th {\n",
       "        text-align: right;\n",
       "    }\n",
       "</style>\n",
       "<table border=\"1\" class=\"dataframe\">\n",
       "  <thead>\n",
       "    <tr style=\"text-align: right;\">\n",
       "      <th></th>\n",
       "      <th>engine_displacement</th>\n",
       "      <th>horsepower</th>\n",
       "      <th>vehicle_weight</th>\n",
       "      <th>model_year</th>\n",
       "      <th>fuel_efficiency_mpg</th>\n",
       "    </tr>\n",
       "  </thead>\n",
       "  <tbody>\n",
       "    <tr>\n",
       "      <th>0</th>\n",
       "      <td>170</td>\n",
       "      <td>159.0</td>\n",
       "      <td>3413.433759</td>\n",
       "      <td>2003</td>\n",
       "      <td>13.231729</td>\n",
       "    </tr>\n",
       "    <tr>\n",
       "      <th>1</th>\n",
       "      <td>130</td>\n",
       "      <td>97.0</td>\n",
       "      <td>3149.664934</td>\n",
       "      <td>2007</td>\n",
       "      <td>13.688217</td>\n",
       "    </tr>\n",
       "    <tr>\n",
       "      <th>2</th>\n",
       "      <td>170</td>\n",
       "      <td>78.0</td>\n",
       "      <td>3079.038997</td>\n",
       "      <td>2018</td>\n",
       "      <td>14.246341</td>\n",
       "    </tr>\n",
       "    <tr>\n",
       "      <th>3</th>\n",
       "      <td>220</td>\n",
       "      <td>NaN</td>\n",
       "      <td>2542.392402</td>\n",
       "      <td>2009</td>\n",
       "      <td>16.912736</td>\n",
       "    </tr>\n",
       "    <tr>\n",
       "      <th>4</th>\n",
       "      <td>210</td>\n",
       "      <td>140.0</td>\n",
       "      <td>3460.870990</td>\n",
       "      <td>2009</td>\n",
       "      <td>12.488369</td>\n",
       "    </tr>\n",
       "  </tbody>\n",
       "</table>\n",
       "</div>"
      ],
      "text/plain": [
       "   engine_displacement  horsepower  vehicle_weight  model_year  \\\n",
       "0                  170       159.0     3413.433759        2003   \n",
       "1                  130        97.0     3149.664934        2007   \n",
       "2                  170        78.0     3079.038997        2018   \n",
       "3                  220         NaN     2542.392402        2009   \n",
       "4                  210       140.0     3460.870990        2009   \n",
       "\n",
       "   fuel_efficiency_mpg  \n",
       "0            13.231729  \n",
       "1            13.688217  \n",
       "2            14.246341  \n",
       "3            16.912736  \n",
       "4            12.488369  "
      ]
     },
     "execution_count": 4,
     "metadata": {},
     "output_type": "execute_result"
    }
   ],
   "source": [
    "def load_data():\n",
    "    df = pd.read_csv(CSV_PATH)\n",
    "    cols = ['engine_displacement', 'horsepower', 'vehicle_weight', 'model_year', 'fuel_efficiency_mpg']\n",
    "    df = df[cols]\n",
    "    return df\n",
    "\n",
    "df = load_data()\n",
    "df.head()"
   ]
  },
  {
   "cell_type": "code",
   "execution_count": 5,
   "id": "6c66f4f5",
   "metadata": {},
   "outputs": [
    {
     "name": "stdout",
     "output_type": "stream",
     "text": [
      "Eksik değer sayıları:\n",
      " engine_displacement      0\n",
      "horsepower             708\n",
      "vehicle_weight           0\n",
      "model_year               0\n",
      "fuel_efficiency_mpg      0\n",
      "dtype: int64\n"
     ]
    }
   ],
   "source": [
    "missing = df.isnull().sum()\n",
    "print(\"Eksik değer sayıları:\\n\", missing)"
   ]
  },
  {
   "cell_type": "code",
   "execution_count": 6,
   "id": "cc345ca5",
   "metadata": {},
   "outputs": [
    {
     "name": "stdout",
     "output_type": "stream",
     "text": [
      "Median horsepower: 149.0\n"
     ]
    }
   ],
   "source": [
    "median_hp = df['horsepower'].median()\n",
    "print(\"Median horsepower:\", median_hp)"
   ]
  },
  {
   "cell_type": "code",
   "execution_count": 7,
   "id": "c0b666b9",
   "metadata": {},
   "outputs": [
    {
     "data": {
      "text/plain": [
       "(5822, 1940, 1942)"
      ]
     },
     "execution_count": 7,
     "metadata": {},
     "output_type": "execute_result"
    }
   ],
   "source": [
    "def shuffle_split(df, seed=42):\n",
    "    df = df.sample(frac=1, random_state=seed).reset_index(drop=True)\n",
    "    n = len(df)\n",
    "    n_train = int(n * 0.6)\n",
    "    n_val = int(n * 0.2)\n",
    "    train = df.iloc[:n_train].reset_index(drop=True)\n",
    "    val = df.iloc[n_train:n_train+n_val].reset_index(drop=True)\n",
    "    test = df.iloc[n_train+n_val:].reset_index(drop=True)\n",
    "    return train, val, test\n",
    "\n",
    "train, val, test = shuffle_split(df, seed=42)\n",
    "\n",
    "len(train), len(val), len(test)\n"
   ]
  },
  {
   "cell_type": "code",
   "execution_count": 8,
   "id": "6c6cf021",
   "metadata": {},
   "outputs": [],
   "source": [
    "def prepare_X(df, fill_method, mean_val=None):\n",
    "    df = df.copy()\n",
    "    if fill_method == 'zero':\n",
    "        df['horsepower'] = df['horsepower'].fillna(0)\n",
    "    elif fill_method == 'mean':\n",
    "        assert mean_val is not None\n",
    "        df['horsepower'] = df['horsepower'].fillna(mean_val)\n",
    "    X = df[['engine_displacement', 'horsepower', 'vehicle_weight', 'model_year']].values\n",
    "    y = df['fuel_efficiency_mpg'].values\n",
    "    return X, y\n"
   ]
  },
  {
   "cell_type": "code",
   "execution_count": 9,
   "id": "07cd9ca6",
   "metadata": {},
   "outputs": [],
   "source": [
    "def rmse(y_true, y_pred):\n",
    "    return mean_squared_error(y_true, y_pred, squared=False)\n"
   ]
  },
  {
   "cell_type": "code",
   "execution_count": 10,
   "id": "3878266c",
   "metadata": {},
   "outputs": [],
   "source": [
    "def train_linear(X_train, y_train, r=0.0):\n",
    "    if r == 0:\n",
    "        model = LinearRegression()\n",
    "    else:\n",
    "        model = Ridge(alpha=r, solver='auto')\n",
    "    model.fit(X_train, y_train)\n",
    "    return model\n"
   ]
  },
  {
   "cell_type": "code",
   "execution_count": 11,
   "id": "20e13090",
   "metadata": {},
   "outputs": [
    {
     "name": "stdout",
     "output_type": "stream",
     "text": [
      "Q3 RMSE with 0: 0.52, with mean: 0.46\n"
     ]
    },
    {
     "name": "stderr",
     "output_type": "stream",
     "text": [
      "/opt/anaconda3/lib/python3.12/site-packages/sklearn/metrics/_regression.py:492: FutureWarning: 'squared' is deprecated in version 1.4 and will be removed in 1.6. To calculate the root mean squared error, use the function'root_mean_squared_error'.\n",
      "  warnings.warn(\n",
      "/opt/anaconda3/lib/python3.12/site-packages/sklearn/metrics/_regression.py:492: FutureWarning: 'squared' is deprecated in version 1.4 and will be removed in 1.6. To calculate the root mean squared error, use the function'root_mean_squared_error'.\n",
      "  warnings.warn(\n"
     ]
    }
   ],
   "source": [
    "mean_hp = train['horsepower'].mean()\n",
    "\n",
    "X_train0, y_train0 = prepare_X(train, 'zero')\n",
    "X_val0, y_val0 = prepare_X(val, 'zero')\n",
    "model0 = train_linear(X_train0, y_train0, r=0.0)\n",
    "pred0 = model0.predict(X_val0)\n",
    "rmse0 = round(rmse(y_val0, pred0), 2)\n",
    "\n",
    "X_train_mean, y_train_mean = prepare_X(train, 'mean', mean_val=mean_hp)\n",
    "X_val_mean, y_val_mean = prepare_X(val, 'mean', mean_val=mean_hp)\n",
    "model_mean = train_linear(X_train_mean, y_train_mean, r=0.0)\n",
    "pred_mean = model_mean.predict(X_val_mean)\n",
    "rmse_mean = round(rmse(y_val_mean, pred_mean), 2)\n",
    "\n",
    "print(f\"Q3 RMSE with 0: {rmse0}, with mean: {rmse_mean}\")\n"
   ]
  },
  {
   "cell_type": "code",
   "execution_count": 12,
   "id": "5c237251",
   "metadata": {},
   "outputs": [
    {
     "name": "stdout",
     "output_type": "stream",
     "text": [
      "Q4 RMSEs:\n",
      "0 0.52\n",
      "0.01 0.52\n",
      "0.1 0.52\n",
      "1 0.52\n",
      "5 0.52\n",
      "10 0.52\n",
      "100 0.52\n",
      "Q4 best r: 0\n"
     ]
    },
    {
     "name": "stderr",
     "output_type": "stream",
     "text": [
      "/opt/anaconda3/lib/python3.12/site-packages/sklearn/metrics/_regression.py:492: FutureWarning: 'squared' is deprecated in version 1.4 and will be removed in 1.6. To calculate the root mean squared error, use the function'root_mean_squared_error'.\n",
      "  warnings.warn(\n",
      "/opt/anaconda3/lib/python3.12/site-packages/sklearn/metrics/_regression.py:492: FutureWarning: 'squared' is deprecated in version 1.4 and will be removed in 1.6. To calculate the root mean squared error, use the function'root_mean_squared_error'.\n",
      "  warnings.warn(\n",
      "/opt/anaconda3/lib/python3.12/site-packages/sklearn/metrics/_regression.py:492: FutureWarning: 'squared' is deprecated in version 1.4 and will be removed in 1.6. To calculate the root mean squared error, use the function'root_mean_squared_error'.\n",
      "  warnings.warn(\n",
      "/opt/anaconda3/lib/python3.12/site-packages/sklearn/metrics/_regression.py:492: FutureWarning: 'squared' is deprecated in version 1.4 and will be removed in 1.6. To calculate the root mean squared error, use the function'root_mean_squared_error'.\n",
      "  warnings.warn(\n",
      "/opt/anaconda3/lib/python3.12/site-packages/sklearn/metrics/_regression.py:492: FutureWarning: 'squared' is deprecated in version 1.4 and will be removed in 1.6. To calculate the root mean squared error, use the function'root_mean_squared_error'.\n",
      "  warnings.warn(\n",
      "/opt/anaconda3/lib/python3.12/site-packages/sklearn/metrics/_regression.py:492: FutureWarning: 'squared' is deprecated in version 1.4 and will be removed in 1.6. To calculate the root mean squared error, use the function'root_mean_squared_error'.\n",
      "  warnings.warn(\n",
      "/opt/anaconda3/lib/python3.12/site-packages/sklearn/metrics/_regression.py:492: FutureWarning: 'squared' is deprecated in version 1.4 and will be removed in 1.6. To calculate the root mean squared error, use the function'root_mean_squared_error'.\n",
      "  warnings.warn(\n"
     ]
    }
   ],
   "source": [
    "r_list = [0, 0.01, 0.1, 1, 5, 10, 100]\n",
    "results = {}\n",
    "\n",
    "for r in r_list:\n",
    "    X_train_r, y_train_r = prepare_X(train, 'zero')\n",
    "    X_val_r, y_val_r = prepare_X(val, 'zero')\n",
    "    model_r = train_linear(X_train_r, y_train_r, r=r)\n",
    "    pred_r = model_r.predict(X_val_r)\n",
    "    results[r] = round(rmse(y_val_r, pred_r), 2)\n",
    "\n",
    "print(\"Q4 RMSEs:\")\n",
    "for r, s in results.items():\n",
    "    print(r, s)\n",
    "\n",
    "best_r = min(results.items(), key=lambda x: (x[1], x[0]))[0]\n",
    "print(\"Q4 best r:\", best_r)\n"
   ]
  },
  {
   "cell_type": "code",
   "execution_count": 13,
   "id": "1ab69faf",
   "metadata": {},
   "outputs": [
    {
     "name": "stdout",
     "output_type": "stream",
     "text": [
      "Q5 std: 0.007\n"
     ]
    },
    {
     "name": "stderr",
     "output_type": "stream",
     "text": [
      "/opt/anaconda3/lib/python3.12/site-packages/sklearn/metrics/_regression.py:492: FutureWarning: 'squared' is deprecated in version 1.4 and will be removed in 1.6. To calculate the root mean squared error, use the function'root_mean_squared_error'.\n",
      "  warnings.warn(\n",
      "/opt/anaconda3/lib/python3.12/site-packages/sklearn/metrics/_regression.py:492: FutureWarning: 'squared' is deprecated in version 1.4 and will be removed in 1.6. To calculate the root mean squared error, use the function'root_mean_squared_error'.\n",
      "  warnings.warn(\n",
      "/opt/anaconda3/lib/python3.12/site-packages/sklearn/metrics/_regression.py:492: FutureWarning: 'squared' is deprecated in version 1.4 and will be removed in 1.6. To calculate the root mean squared error, use the function'root_mean_squared_error'.\n",
      "  warnings.warn(\n",
      "/opt/anaconda3/lib/python3.12/site-packages/sklearn/metrics/_regression.py:492: FutureWarning: 'squared' is deprecated in version 1.4 and will be removed in 1.6. To calculate the root mean squared error, use the function'root_mean_squared_error'.\n",
      "  warnings.warn(\n",
      "/opt/anaconda3/lib/python3.12/site-packages/sklearn/metrics/_regression.py:492: FutureWarning: 'squared' is deprecated in version 1.4 and will be removed in 1.6. To calculate the root mean squared error, use the function'root_mean_squared_error'.\n",
      "  warnings.warn(\n",
      "/opt/anaconda3/lib/python3.12/site-packages/sklearn/metrics/_regression.py:492: FutureWarning: 'squared' is deprecated in version 1.4 and will be removed in 1.6. To calculate the root mean squared error, use the function'root_mean_squared_error'.\n",
      "  warnings.warn(\n",
      "/opt/anaconda3/lib/python3.12/site-packages/sklearn/metrics/_regression.py:492: FutureWarning: 'squared' is deprecated in version 1.4 and will be removed in 1.6. To calculate the root mean squared error, use the function'root_mean_squared_error'.\n",
      "  warnings.warn(\n",
      "/opt/anaconda3/lib/python3.12/site-packages/sklearn/metrics/_regression.py:492: FutureWarning: 'squared' is deprecated in version 1.4 and will be removed in 1.6. To calculate the root mean squared error, use the function'root_mean_squared_error'.\n",
      "  warnings.warn(\n",
      "/opt/anaconda3/lib/python3.12/site-packages/sklearn/metrics/_regression.py:492: FutureWarning: 'squared' is deprecated in version 1.4 and will be removed in 1.6. To calculate the root mean squared error, use the function'root_mean_squared_error'.\n",
      "  warnings.warn(\n",
      "/opt/anaconda3/lib/python3.12/site-packages/sklearn/metrics/_regression.py:492: FutureWarning: 'squared' is deprecated in version 1.4 and will be removed in 1.6. To calculate the root mean squared error, use the function'root_mean_squared_error'.\n",
      "  warnings.warn(\n"
     ]
    }
   ],
   "source": [
    "seeds = list(range(10))\n",
    "scores = []\n",
    "\n",
    "for s in seeds:\n",
    "    tr, va, te = shuffle_split(df, seed=s)\n",
    "    X_tr, y_tr = prepare_X(tr, 'zero')\n",
    "    X_va, y_va = prepare_X(va, 'zero')\n",
    "    m = train_linear(X_tr, y_tr, r=0.0)\n",
    "    p = m.predict(X_va)\n",
    "    scores.append(rmse(y_va, p))\n",
    "\n",
    "std = round(float(np.std(scores)), 3)\n",
    "print(\"Q5 std:\", std)\n"
   ]
  },
  {
   "cell_type": "code",
   "execution_count": 14,
   "id": "5359a9bb",
   "metadata": {},
   "outputs": [
    {
     "name": "stdout",
     "output_type": "stream",
     "text": [
      "Q6 RMSE test: 0.515\n"
     ]
    },
    {
     "name": "stderr",
     "output_type": "stream",
     "text": [
      "/opt/anaconda3/lib/python3.12/site-packages/sklearn/metrics/_regression.py:492: FutureWarning: 'squared' is deprecated in version 1.4 and will be removed in 1.6. To calculate the root mean squared error, use the function'root_mean_squared_error'.\n",
      "  warnings.warn(\n"
     ]
    }
   ],
   "source": [
    "tr, va, te = shuffle_split(df, seed=9)\n",
    "trainval = pd.concat([tr, va]).reset_index(drop=True)\n",
    "X_tv, y_tv = prepare_X(trainval, 'zero')\n",
    "X_test, y_test = prepare_X(te, 'zero')\n",
    "\n",
    "m = train_linear(X_tv, y_tv, r=0.001)\n",
    "p_test = m.predict(X_test)\n",
    "rmse_test = round(rmse(y_test, p_test), 3)\n",
    "\n",
    "print(\"Q6 RMSE test:\", rmse_test)\n"
   ]
  },
  {
   "cell_type": "code",
   "execution_count": null,
   "id": "43f59599",
   "metadata": {},
   "outputs": [],
   "source": []
  }
 ],
 "metadata": {
  "kernelspec": {
   "display_name": "base",
   "language": "python",
   "name": "python3"
  },
  "language_info": {
   "codemirror_mode": {
    "name": "ipython",
    "version": 3
   },
   "file_extension": ".py",
   "mimetype": "text/x-python",
   "name": "python",
   "nbconvert_exporter": "python",
   "pygments_lexer": "ipython3",
   "version": "3.12.7"
  }
 },
 "nbformat": 4,
 "nbformat_minor": 5
}
